{
 "cells": [
  {
   "cell_type": "code",
   "execution_count": 1,
   "metadata": {},
   "outputs": [
    {
     "name": "stdout",
     "output_type": "stream",
     "text": [
      "········\n"
     ]
    }
   ],
   "source": [
    "'''\n",
    "1. Step: Before everything in this notebopok, create a new SQL Schema in local MySQL Database called \"newcovid\"\n",
    "2. Step: Import required libraries\n",
    "3. Step: Establish a connection to the newly created MySQL DB \"newcovid\"\n",
    "'''\n",
    "\n",
    "import pandas as pd\n",
    "import pymysql\n",
    "import getpass\n",
    "import requests\n",
    "import json\n",
    "from flatten_json import flatten \n",
    "import matplotlib\n",
    "%matplotlib inline\n",
    "\n",
    "# establishing a connection to local SPL Database and use secure poassword method \"getpass\"\n",
    "conn = pymysql.connect(host=\"localhost\",\n",
    "                       port=3306,\n",
    "                       user=\"root\",\n",
    "                       passwd=getpass.getpass(),\n",
    "                       db=\"newcovid\")"
   ]
  },
  {
   "cell_type": "code",
   "execution_count": 43,
   "metadata": {},
   "outputs": [],
   "source": [
    "''' JSON import from Eurostat API\n",
    "\n",
    "Definition of the URL-String components accoring to the Eurostat API REST Request requirements\n",
    "(https://ec.europa.eu/eurostat/web/json-and-unicode-web-services/getting-started/rest-request)\n",
    "\n",
    "1) Variable 'Eurostat_base' to use as URL-base \n",
    "2) Dictionary 'Eurostat_dict' with values to be called as second URL-component by identyable keys, \n",
    "   which will themselves later serve as names for the respective SQL tables\n",
    "3) Empty list 'df_list', which which as an intermediate container lateron will receive the dataframes, \n",
    "   once they are created from the JSON-Files, which we receive from the Eurostat API.\n",
    "\n",
    "'''\n",
    "\n",
    "Eurostat_base = \"http://ec.europa.eu/eurostat/wdds/rest/data/v2.1/json/en/\"\n",
    "Eurostat_dict ={\"Eurostat_population_density_2018\" : \n",
    "                \"tps00003?unit=PER_KM2&precision=1&time=2018\",\n",
    "                \"Eurostat_air_transport_passengers_2018\" : \n",
    "                \"ttr00012?tra_meas=PAS_CRD&precision=1&tra_cov=TOTAL&schedule=TOT&unit=PAS&time=2018\",\n",
    "                \"Eurostat_gdp_head_2018\" :\n",
    "                \"nama_10_pc?na_item=B1GQ&precision=1&unit=CLV10_EUR_HAB&time=2018\",\n",
    "                \"Eurostat_health_euro_expenditure_per_capita_and_totals_2017\" :\n",
    "                \"tps00207?precision=1&unit=EUR_HAB&unit=MIO_EUR&unit=PC_GDP&icha11_hc=TOT_HC&time=2017\",\n",
    "                \"Eurostat_total_nights_spent_by_residents_non_residents_2018\" :\n",
    "                \"tin00175?c_resid=FOR&c_resid=NAT&c_resid=TOTAL&precision=1&unit=NR&time=2018&nace_r2=I551-I553\",\n",
    "                \"Eurostat_total_deaths_by_pneumonia_2016\" :\n",
    "                \"tps00128?precision=1&sex=F&sex=M&sex=T&unit=RT&time=2016&age=TOTAL&icd10=J12-J18\",\n",
    "                \"Eurostat_standardised_death_rate_due_to_chronic_diseases_by_sex\" :\n",
    "                \"sdg_03_40?sex=F&sex=M&sex=T&precision=1&time=2016\",\n",
    "                \"Eurostat_total_population_on_January1st_2018\" :\n",
    "                \"proj_18np?precision=1&age=TOTAL\",\n",
    "                \"Eurostat_no_of_practising_physicians_per_100k_inhabitants_2017\" :\n",
    "                \"tps00044?precision=1&isco08=OC221&unit=P_HTHAB&wstatus=PRACT&time=2017\",\n",
    "                \"Eurostat_share_of_people_with_good_or_very_good_perceived_health_by_sex_above_16_2019\" :\n",
    "                \"sdg_03_20?precision=1&sex=F&sex=M&sex=T&unit=PC&quantile=TOTAL&time=2019&age=Y_GE16&levels=VG_G\",\n",
    "                \"Eurostat_overcrowding_rate_by_sex_without_single-person_households_2019\" :\n",
    "                \"tessi176?precision=1&sex=F&sex=M&sex=T&incgrp=TOTAL&unit=PC&time=2019&age=TOTAL\",\n",
    "                \"Eurostat_population_by_age_group_2019\" :\n",
    "                \"tps00010?indic_de=PC_Y0_14&indic_de=PC_Y15_24&indic_de=PC_Y25_49&indic_de=PC_Y50_64&indic_de=PC_Y65_79&indic_de=PC_Y80_MAX&precision=1&time=2019\"\n",
    "               }\n",
    "df_list=[]\n",
    "\n",
    "''' We now create a function, which \n",
    "a) receives a string(URL-base) and a dictionary of strings(secondary URL components),\n",
    "b) iterates through the dictionary,\n",
    "c) concatenates the URL components, \n",
    "d) reads the JSON files from the API, \n",
    "e) transforms it to a panda dataframe,  \n",
    "f) transforms the respective df into a CSV-file and saves it in the repository\n",
    "'''\n",
    "\n",
    "def eurostat(base_str,url_dict):\n",
    "    from pyjstat import pyjstat\n",
    "    from collections import OrderedDict\n",
    "    \n",
    "    for key in url_dict:\n",
    "        url = base_str + url_dict.get(key)\n",
    "        dataset = pyjstat.Dataset.read(url)\n",
    "        df = dataset.write('dataframe')\n",
    "        df.to_csv(key +'.csv', index=False)\n",
    "    return\n"
   ]
  },
  {
   "cell_type": "code",
   "execution_count": 44,
   "metadata": {},
   "outputs": [],
   "source": [
    "# calling the function with the above created String variable and the URL-dictionary\n",
    "eurostat(Eurostat_base,Eurostat_dict)"
   ]
  },
  {
   "cell_type": "code",
   "execution_count": null,
   "metadata": {},
   "outputs": [],
   "source": []
  }
 ],
 "metadata": {
  "kernelspec": {
   "display_name": "Python 3",
   "language": "python",
   "name": "python3"
  },
  "language_info": {
   "codemirror_mode": {
    "name": "ipython",
    "version": 3
   },
   "file_extension": ".py",
   "mimetype": "text/x-python",
   "name": "python",
   "nbconvert_exporter": "python",
   "pygments_lexer": "ipython3",
   "version": "3.7.4"
  }
 },
 "nbformat": 4,
 "nbformat_minor": 2
}
